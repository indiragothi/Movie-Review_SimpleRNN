{
 "cells": [
  {
   "cell_type": "code",
   "execution_count": 1,
   "metadata": {},
   "outputs": [],
   "source": [
    "# Step 1: Import Libraries and Load the Model\n",
    "import numpy as np\n",
    "import tensorflow as tf\n",
    "from tensorflow.keras.datasets import imdb\n",
    "from tensorflow.keras.preprocessing import sequence\n",
    "from tensorflow.keras.models import load_model"
   ]
  },
  {
   "cell_type": "code",
   "execution_count": 2,
   "metadata": {},
   "outputs": [],
   "source": [
    "\n",
    "# Load the IMDB dataset word index\n",
    "word_index = imdb.get_word_index()\n",
    "reverse_word_index = {value: key for key, value in word_index.items()}"
   ]
  },
  {
   "cell_type": "code",
   "execution_count": 3,
   "metadata": {},
   "outputs": [
    {
     "data": {
      "text/html": [
       "<pre style=\"white-space:pre;overflow-x:auto;line-height:normal;font-family:Menlo,'DejaVu Sans Mono',consolas,'Courier New',monospace\"><span style=\"font-weight: bold\">Model: \"sequential_1\"</span>\n",
       "</pre>\n"
      ],
      "text/plain": [
       "\u001b[1mModel: \"sequential_1\"\u001b[0m\n"
      ]
     },
     "metadata": {},
     "output_type": "display_data"
    },
    {
     "data": {
      "text/html": [
       "<pre style=\"white-space:pre;overflow-x:auto;line-height:normal;font-family:Menlo,'DejaVu Sans Mono',consolas,'Courier New',monospace\">┏━━━━━━━━━━━━━━━━━━━━━━━━━━━━━━━━━┳━━━━━━━━━━━━━━━━━━━━━━━━┳━━━━━━━━━━━━━━━┓\n",
       "┃<span style=\"font-weight: bold\"> Layer (type)                    </span>┃<span style=\"font-weight: bold\"> Output Shape           </span>┃<span style=\"font-weight: bold\">       Param # </span>┃\n",
       "┡━━━━━━━━━━━━━━━━━━━━━━━━━━━━━━━━━╇━━━━━━━━━━━━━━━━━━━━━━━━╇━━━━━━━━━━━━━━━┩\n",
       "│ embedding_1 (<span style=\"color: #0087ff; text-decoration-color: #0087ff\">Embedding</span>)         │ (<span style=\"color: #00d7ff; text-decoration-color: #00d7ff\">None</span>, <span style=\"color: #00af00; text-decoration-color: #00af00\">500</span>, <span style=\"color: #00af00; text-decoration-color: #00af00\">128</span>)       │     <span style=\"color: #00af00; text-decoration-color: #00af00\">1,280,000</span> │\n",
       "├─────────────────────────────────┼────────────────────────┼───────────────┤\n",
       "│ simple_rnn_1 (<span style=\"color: #0087ff; text-decoration-color: #0087ff\">SimpleRNN</span>)        │ (<span style=\"color: #00d7ff; text-decoration-color: #00d7ff\">None</span>, <span style=\"color: #00af00; text-decoration-color: #00af00\">128</span>)            │        <span style=\"color: #00af00; text-decoration-color: #00af00\">32,896</span> │\n",
       "├─────────────────────────────────┼────────────────────────┼───────────────┤\n",
       "│ dense_1 (<span style=\"color: #0087ff; text-decoration-color: #0087ff\">Dense</span>)                 │ (<span style=\"color: #00d7ff; text-decoration-color: #00d7ff\">None</span>, <span style=\"color: #00af00; text-decoration-color: #00af00\">1</span>)              │           <span style=\"color: #00af00; text-decoration-color: #00af00\">129</span> │\n",
       "└─────────────────────────────────┴────────────────────────┴───────────────┘\n",
       "</pre>\n"
      ],
      "text/plain": [
       "┏━━━━━━━━━━━━━━━━━━━━━━━━━━━━━━━━━┳━━━━━━━━━━━━━━━━━━━━━━━━┳━━━━━━━━━━━━━━━┓\n",
       "┃\u001b[1m \u001b[0m\u001b[1mLayer (type)                   \u001b[0m\u001b[1m \u001b[0m┃\u001b[1m \u001b[0m\u001b[1mOutput Shape          \u001b[0m\u001b[1m \u001b[0m┃\u001b[1m \u001b[0m\u001b[1m      Param #\u001b[0m\u001b[1m \u001b[0m┃\n",
       "┡━━━━━━━━━━━━━━━━━━━━━━━━━━━━━━━━━╇━━━━━━━━━━━━━━━━━━━━━━━━╇━━━━━━━━━━━━━━━┩\n",
       "│ embedding_1 (\u001b[38;5;33mEmbedding\u001b[0m)         │ (\u001b[38;5;45mNone\u001b[0m, \u001b[38;5;34m500\u001b[0m, \u001b[38;5;34m128\u001b[0m)       │     \u001b[38;5;34m1,280,000\u001b[0m │\n",
       "├─────────────────────────────────┼────────────────────────┼───────────────┤\n",
       "│ simple_rnn_1 (\u001b[38;5;33mSimpleRNN\u001b[0m)        │ (\u001b[38;5;45mNone\u001b[0m, \u001b[38;5;34m128\u001b[0m)            │        \u001b[38;5;34m32,896\u001b[0m │\n",
       "├─────────────────────────────────┼────────────────────────┼───────────────┤\n",
       "│ dense_1 (\u001b[38;5;33mDense\u001b[0m)                 │ (\u001b[38;5;45mNone\u001b[0m, \u001b[38;5;34m1\u001b[0m)              │           \u001b[38;5;34m129\u001b[0m │\n",
       "└─────────────────────────────────┴────────────────────────┴───────────────┘\n"
      ]
     },
     "metadata": {},
     "output_type": "display_data"
    },
    {
     "data": {
      "text/html": [
       "<pre style=\"white-space:pre;overflow-x:auto;line-height:normal;font-family:Menlo,'DejaVu Sans Mono',consolas,'Courier New',monospace\"><span style=\"font-weight: bold\"> Total params: </span><span style=\"color: #00af00; text-decoration-color: #00af00\">3,939,077</span> (15.03 MB)\n",
       "</pre>\n"
      ],
      "text/plain": [
       "\u001b[1m Total params: \u001b[0m\u001b[38;5;34m3,939,077\u001b[0m (15.03 MB)\n"
      ]
     },
     "metadata": {},
     "output_type": "display_data"
    },
    {
     "data": {
      "text/html": [
       "<pre style=\"white-space:pre;overflow-x:auto;line-height:normal;font-family:Menlo,'DejaVu Sans Mono',consolas,'Courier New',monospace\"><span style=\"font-weight: bold\"> Trainable params: </span><span style=\"color: #00af00; text-decoration-color: #00af00\">1,313,025</span> (5.01 MB)\n",
       "</pre>\n"
      ],
      "text/plain": [
       "\u001b[1m Trainable params: \u001b[0m\u001b[38;5;34m1,313,025\u001b[0m (5.01 MB)\n"
      ]
     },
     "metadata": {},
     "output_type": "display_data"
    },
    {
     "data": {
      "text/html": [
       "<pre style=\"white-space:pre;overflow-x:auto;line-height:normal;font-family:Menlo,'DejaVu Sans Mono',consolas,'Courier New',monospace\"><span style=\"font-weight: bold\"> Non-trainable params: </span><span style=\"color: #00af00; text-decoration-color: #00af00\">0</span> (0.00 B)\n",
       "</pre>\n"
      ],
      "text/plain": [
       "\u001b[1m Non-trainable params: \u001b[0m\u001b[38;5;34m0\u001b[0m (0.00 B)\n"
      ]
     },
     "metadata": {},
     "output_type": "display_data"
    },
    {
     "data": {
      "text/html": [
       "<pre style=\"white-space:pre;overflow-x:auto;line-height:normal;font-family:Menlo,'DejaVu Sans Mono',consolas,'Courier New',monospace\"><span style=\"font-weight: bold\"> Optimizer params: </span><span style=\"color: #00af00; text-decoration-color: #00af00\">2,626,052</span> (10.02 MB)\n",
       "</pre>\n"
      ],
      "text/plain": [
       "\u001b[1m Optimizer params: \u001b[0m\u001b[38;5;34m2,626,052\u001b[0m (10.02 MB)\n"
      ]
     },
     "metadata": {},
     "output_type": "display_data"
    }
   ],
   "source": [
    "# Load the pre-trained model with ReLU activation\n",
    "model = load_model('simple_rnn_imdb.keras')\n",
    "model.summary()"
   ]
  },
  {
   "cell_type": "code",
   "execution_count": 4,
   "metadata": {},
   "outputs": [
    {
     "data": {
      "text/plain": [
       "[array([[ 0.16566512, -0.18727382, -0.11824568, ...,  0.09155457,\n",
       "          0.12879284,  0.1407848 ],\n",
       "        [-0.00440932,  0.00627847,  0.07147374, ...,  0.01953707,\n",
       "          0.00722702,  0.00116966],\n",
       "        [ 0.01690373, -0.08020753, -0.05974665, ..., -0.01156642,\n",
       "         -0.02314169,  0.03990018],\n",
       "        ...,\n",
       "        [-0.05691765, -0.01958932, -0.03474559, ...,  0.01450083,\n",
       "         -0.03099879,  0.01397859],\n",
       "        [ 0.05037522, -0.03095499,  0.03619247, ..., -0.03194797,\n",
       "          0.00283058, -0.00363715],\n",
       "        [-0.04999072,  0.12954107,  0.09897245, ..., -0.10356021,\n",
       "         -0.01766973, -0.03150745]], dtype=float32),\n",
       " array([[ 0.04145098,  0.00560406, -0.05141274, ..., -0.1367589 ,\n",
       "         -0.03479919,  0.01967275],\n",
       "        [ 0.07707576, -0.10624566,  0.12072973, ..., -0.12452176,\n",
       "          0.02148794,  0.11781246],\n",
       "        [-0.07039801,  0.09578171, -0.04755832, ..., -0.03003558,\n",
       "         -0.12729442,  0.09771623],\n",
       "        ...,\n",
       "        [ 0.03100049,  0.11870709,  0.12494455, ...,  0.13119401,\n",
       "          0.12980977, -0.0357477 ],\n",
       "        [ 0.17900878, -0.10547326,  0.16524245, ...,  0.10513604,\n",
       "         -0.12225777, -0.1089988 ],\n",
       "        [ 0.01438779, -0.07880356, -0.02691562, ..., -0.09305507,\n",
       "          0.02694241,  0.09159782]], dtype=float32),\n",
       " array([[-0.04974944,  0.00817856,  0.20612434, ...,  0.11978005,\n",
       "          0.08448937,  0.01953557],\n",
       "        [-0.11193972, -0.00594925, -0.03839322, ...,  0.10084794,\n",
       "          0.01098282,  0.04569433],\n",
       "        [ 0.12716113,  0.10110139, -0.04225075, ...,  0.06561199,\n",
       "         -0.18729046, -0.08807156],\n",
       "        ...,\n",
       "        [-0.10661862, -0.01872422, -0.06448146, ..., -0.02116751,\n",
       "         -0.14446338, -0.04008783],\n",
       "        [ 0.02959179, -0.05639135, -0.09126333, ..., -0.15092556,\n",
       "          0.17614883, -0.12627056],\n",
       "        [ 0.05746015,  0.1445623 ,  0.02557172, ...,  0.02546789,\n",
       "         -0.07816608, -0.02360363]], dtype=float32),\n",
       " array([-3.60651538e-02, -1.21275103e-02, -4.58779633e-02, -2.61147823e-02,\n",
       "        -2.40355777e-03, -7.41735287e-03,  2.09553279e-02, -1.19111100e-02,\n",
       "        -2.39948016e-02, -1.72411110e-02, -3.41875404e-02, -7.47154234e-03,\n",
       "         4.87182895e-03, -2.72051357e-02, -9.45598166e-03,  1.79653503e-02,\n",
       "        -1.32181244e-02, -3.12734395e-02, -1.49725331e-02, -2.41603628e-02,\n",
       "        -6.49590343e-02,  1.46581335e-02, -2.46932427e-03,  3.20257545e-02,\n",
       "         2.63079000e-03, -1.66515242e-02, -1.42041361e-02, -1.92739703e-02,\n",
       "         2.38557695e-03, -1.57422926e-02,  5.57674421e-03, -6.11448213e-02,\n",
       "        -5.50944870e-03, -2.82224584e-02, -1.09215630e-02, -1.87127162e-02,\n",
       "        -2.14872472e-02,  1.17839938e-02, -2.32747048e-02, -1.89458989e-02,\n",
       "        -2.71904394e-02,  5.67590147e-02, -1.87475570e-02,  1.99089009e-05,\n",
       "        -5.11936806e-02, -8.16909410e-03,  1.42671168e-02, -1.58117823e-02,\n",
       "        -2.96083484e-02, -2.97243372e-02,  2.38223542e-02, -1.16571756e-02,\n",
       "         8.86159949e-03, -3.09302621e-02, -3.51026393e-02,  2.49349214e-02,\n",
       "         9.74088721e-03, -6.01805784e-02, -6.40346043e-05, -1.64166819e-02,\n",
       "        -2.43114103e-02, -9.13247652e-03,  2.85784807e-02,  4.14553285e-02,\n",
       "        -2.34489441e-02, -1.79887172e-02, -9.86033771e-03, -6.29450679e-02,\n",
       "        -9.23449360e-03, -2.39324640e-03,  4.77681961e-03, -1.33681512e-02,\n",
       "         1.36199947e-02,  2.55708452e-02, -1.92332789e-02, -6.51677372e-03,\n",
       "        -2.45256443e-02,  3.92135885e-03, -4.70490605e-02, -4.80592288e-02,\n",
       "        -4.32790257e-02,  7.38846650e-03,  9.12330300e-03, -5.48893679e-03,\n",
       "        -1.79042537e-02, -1.60839614e-02, -6.13184832e-03, -4.23940532e-02,\n",
       "         1.61558595e-02,  3.67446174e-03,  5.00201341e-03, -1.67952962e-02,\n",
       "         3.26062902e-03,  2.57552019e-03,  1.12644071e-02, -7.19937161e-02,\n",
       "        -1.23602375e-02,  2.29910687e-02,  1.62558616e-04, -2.00583246e-02,\n",
       "        -2.80289110e-02, -5.33743575e-03, -1.99491940e-02, -1.94679014e-02,\n",
       "         7.41989352e-04, -2.06194539e-02,  3.58758005e-03, -1.57972574e-02,\n",
       "        -2.83030840e-03, -9.11149196e-03, -1.06632486e-02,  1.01375552e-02,\n",
       "         2.35052649e-02, -9.85757262e-03, -1.33372899e-02, -3.10868789e-02,\n",
       "        -1.85066201e-02, -1.77704319e-02, -1.31177176e-02, -8.25898442e-03,\n",
       "        -8.61261506e-03, -2.72849537e-02,  2.60299235e-03, -3.43783833e-02,\n",
       "        -4.99336515e-03, -2.25123414e-03, -2.47747730e-02,  1.16226217e-03],\n",
       "       dtype=float32),\n",
       " array([[-3.24856550e-01],\n",
       "        [ 3.31506789e-01],\n",
       "        [ 2.09863946e-01],\n",
       "        [ 1.59031451e-01],\n",
       "        [ 1.80925727e-01],\n",
       "        [-2.66789883e-01],\n",
       "        [-8.22939575e-02],\n",
       "        [-7.24582300e-02],\n",
       "        [ 2.71643072e-01],\n",
       "        [ 2.27283493e-01],\n",
       "        [-3.40637229e-02],\n",
       "        [-5.37980676e-01],\n",
       "        [-1.70635760e-01],\n",
       "        [ 1.39958099e-01],\n",
       "        [ 1.06432838e-02],\n",
       "        [-4.73092534e-02],\n",
       "        [-4.78203408e-02],\n",
       "        [-1.42244890e-01],\n",
       "        [-2.05028981e-01],\n",
       "        [ 1.00960635e-01],\n",
       "        [ 1.20403856e-01],\n",
       "        [-1.39330626e-01],\n",
       "        [-1.25467017e-01],\n",
       "        [-1.20680772e-01],\n",
       "        [ 8.02042410e-02],\n",
       "        [ 6.90556988e-02],\n",
       "        [-7.03579262e-02],\n",
       "        [ 1.87378153e-01],\n",
       "        [ 1.75688952e-01],\n",
       "        [-7.75866583e-02],\n",
       "        [-1.37260184e-01],\n",
       "        [-2.07619797e-02],\n",
       "        [ 4.40271683e-02],\n",
       "        [-5.20956159e-01],\n",
       "        [ 9.40778628e-02],\n",
       "        [ 2.21429750e-01],\n",
       "        [-2.28819892e-01],\n",
       "        [ 1.21134683e-01],\n",
       "        [ 2.14610383e-01],\n",
       "        [-1.49784163e-01],\n",
       "        [ 2.26870090e-01],\n",
       "        [ 1.46090612e-01],\n",
       "        [-5.89166135e-02],\n",
       "        [ 1.70202032e-01],\n",
       "        [-1.49543956e-01],\n",
       "        [ 4.01758254e-02],\n",
       "        [-4.99505624e-02],\n",
       "        [ 2.23651826e-01],\n",
       "        [-8.85783285e-02],\n",
       "        [ 2.50642058e-02],\n",
       "        [ 7.05639422e-02],\n",
       "        [-2.96599092e-03],\n",
       "        [ 2.41570309e-01],\n",
       "        [-5.06028347e-02],\n",
       "        [-3.97100329e-01],\n",
       "        [-1.62298322e-01],\n",
       "        [-2.12467775e-01],\n",
       "        [-1.13547981e-01],\n",
       "        [ 2.63356566e-01],\n",
       "        [ 2.48543750e-02],\n",
       "        [ 3.63084823e-02],\n",
       "        [ 1.47818923e-01],\n",
       "        [ 2.37159714e-01],\n",
       "        [-8.55377242e-02],\n",
       "        [ 5.06318927e-01],\n",
       "        [-2.08397597e-01],\n",
       "        [ 2.16645405e-01],\n",
       "        [ 2.85582811e-01],\n",
       "        [ 2.25184619e-01],\n",
       "        [-5.32774143e-02],\n",
       "        [-6.59857839e-02],\n",
       "        [ 1.29739493e-01],\n",
       "        [ 1.15927765e-02],\n",
       "        [-1.05916455e-01],\n",
       "        [ 9.66880620e-02],\n",
       "        [ 1.67892531e-01],\n",
       "        [-1.77959099e-01],\n",
       "        [-1.93387419e-01],\n",
       "        [-2.06457555e-01],\n",
       "        [-2.63800085e-01],\n",
       "        [ 6.17228262e-02],\n",
       "        [-2.51154006e-01],\n",
       "        [-2.23233789e-01],\n",
       "        [-2.46269584e-01],\n",
       "        [ 1.93197161e-01],\n",
       "        [ 1.25509605e-01],\n",
       "        [-1.82646155e-01],\n",
       "        [-8.77187699e-02],\n",
       "        [ 1.70896709e-01],\n",
       "        [-1.46549180e-01],\n",
       "        [ 1.33038008e+00],\n",
       "        [ 6.00810461e-02],\n",
       "        [-2.61358619e-01],\n",
       "        [-1.39294788e-01],\n",
       "        [-2.05364436e-01],\n",
       "        [-2.72296876e-01],\n",
       "        [ 2.15344533e-01],\n",
       "        [ 8.15644324e-01],\n",
       "        [-2.06944704e-01],\n",
       "        [ 2.57212043e-01],\n",
       "        [ 2.63151288e-01],\n",
       "        [ 8.53709817e-01],\n",
       "        [ 1.64226577e-01],\n",
       "        [ 1.09924190e-01],\n",
       "        [ 2.31944904e-01],\n",
       "        [-2.27044113e-02],\n",
       "        [ 8.72744247e-02],\n",
       "        [ 6.51571676e-02],\n",
       "        [ 1.45414367e-01],\n",
       "        [ 1.61863789e-01],\n",
       "        [ 7.03643635e-02],\n",
       "        [-9.22515914e-02],\n",
       "        [ 4.80654911e-04],\n",
       "        [-2.57216126e-01],\n",
       "        [ 1.83325827e-01],\n",
       "        [-1.35003507e-01],\n",
       "        [ 2.06598371e-01],\n",
       "        [ 1.69717655e-01],\n",
       "        [ 2.40989640e-01],\n",
       "        [ 2.19393060e-01],\n",
       "        [-3.73921590e-03],\n",
       "        [ 4.49596345e-02],\n",
       "        [-1.38276473e-01],\n",
       "        [-2.36249849e-01],\n",
       "        [ 1.65035695e-01],\n",
       "        [ 1.62682638e-01],\n",
       "        [ 1.14491759e-02],\n",
       "        [ 9.44083035e-02]], dtype=float32),\n",
       " array([0.8041805], dtype=float32)]"
      ]
     },
     "execution_count": 4,
     "metadata": {},
     "output_type": "execute_result"
    }
   ],
   "source": [
    "model.get_weights()"
   ]
  },
  {
   "cell_type": "code",
   "execution_count": 5,
   "metadata": {},
   "outputs": [],
   "source": [
    "# Step 2: Helper Functions\n",
    "# Function to decode reviews\n",
    "def decode_review(encoded_review):\n",
    "    return ' '.join([reverse_word_index.get(i - 3, '?') for i in encoded_review])\n",
    "\n",
    "# Function to preprocess user input\n",
    "def preprocess_text(text):\n",
    "    words = text.lower().split()\n",
    "    encoded_review = [word_index.get(word, 2) + 3 for word in words]\n",
    "    padded_review = sequence.pad_sequences([encoded_review], maxlen=500)\n",
    "    return padded_review"
   ]
  },
  {
   "cell_type": "code",
   "execution_count": 6,
   "metadata": {},
   "outputs": [],
   "source": [
    "### Prediction  function\n",
    "\n",
    "def predict_sentiment(review):\n",
    "    preprocessed_input=preprocess_text(review)\n",
    "\n",
    "    prediction=model.predict(preprocessed_input)\n",
    "\n",
    "    sentiment = 'Positive' if prediction[0][0] > 0.5 else 'Negative'\n",
    "    \n",
    "    return sentiment, prediction[0][0]\n",
    "\n"
   ]
  },
  {
   "cell_type": "code",
   "execution_count": 7,
   "metadata": {},
   "outputs": [
    {
     "name": "stdout",
     "output_type": "stream",
     "text": [
      "\u001b[1m1/1\u001b[0m \u001b[32m━━━━━━━━━━━━━━━━━━━━\u001b[0m\u001b[37m\u001b[0m \u001b[1m0s\u001b[0m 259ms/step\n",
      "Review: This movie was fantastic! The acting was great and the plot was thrilling.\n",
      "Sentiment: Positive\n",
      "Prediction Score: 0.5929420590400696\n"
     ]
    }
   ],
   "source": [
    "# Step 4: User Input and Prediction\n",
    "# Example review for prediction\n",
    "example_review = \"This movie was fantastic! The acting was great and the plot was thrilling.\"\n",
    "\n",
    "sentiment,score=predict_sentiment(example_review)\n",
    "\n",
    "print(f'Review: {example_review}')\n",
    "print(f'Sentiment: {sentiment}')\n",
    "print(f'Prediction Score: {score}')"
   ]
  },
  {
   "cell_type": "code",
   "execution_count": null,
   "metadata": {},
   "outputs": [],
   "source": []
  },
  {
   "cell_type": "code",
   "execution_count": null,
   "metadata": {},
   "outputs": [],
   "source": []
  },
  {
   "cell_type": "code",
   "execution_count": null,
   "metadata": {},
   "outputs": [],
   "source": []
  },
  {
   "cell_type": "code",
   "execution_count": null,
   "metadata": {},
   "outputs": [],
   "source": []
  }
 ],
 "metadata": {
  "kernelspec": {
   "display_name": "Python 3",
   "language": "python",
   "name": "python3"
  },
  "language_info": {
   "codemirror_mode": {
    "name": "ipython",
    "version": 3
   },
   "file_extension": ".py",
   "mimetype": "text/x-python",
   "name": "python",
   "nbconvert_exporter": "python",
   "pygments_lexer": "ipython3",
   "version": "3.11.0"
  }
 },
 "nbformat": 4,
 "nbformat_minor": 2
}
